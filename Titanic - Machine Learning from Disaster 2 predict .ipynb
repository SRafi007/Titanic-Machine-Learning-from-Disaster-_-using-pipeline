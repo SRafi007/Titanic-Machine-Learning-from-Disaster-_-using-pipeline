{
 "cells": [
  {
   "cell_type": "code",
   "execution_count": 16,
   "id": "7338bce5-8417-41d0-9214-4cc4ca7962ca",
   "metadata": {},
   "outputs": [],
   "source": [
    "import pickle\n",
    "import numpy as np"
   ]
  },
  {
   "cell_type": "code",
   "execution_count": 17,
   "id": "c79ae05d-fc3a-4bac-a900-137f5bf5e833",
   "metadata": {},
   "outputs": [],
   "source": [
    "pipe=pickle.load(open('pipe_dt.pkl','rb'))"
   ]
  },
  {
   "cell_type": "code",
   "execution_count": 20,
   "id": "e9ce2c69-eb31-4450-aa6b-1085f24bd939",
   "metadata": {},
   "outputs": [],
   "source": [
    "input=np.array([1,'female',40.0,0,2,20.0,'s'],dtype=object).reshape(1,7)"
   ]
  },
  {
   "cell_type": "code",
   "execution_count": 21,
   "id": "f3a4edd5-6f21-4c2c-8182-ab5a216c9c25",
   "metadata": {},
   "outputs": [
    {
     "name": "stderr",
     "output_type": "stream",
     "text": [
      "D:\\Machine learning\\Practice Jupyter\\kg_task1\\venv1\\Lib\\site-packages\\sklearn\\base.py:493: UserWarning: X does not have valid feature names, but SimpleImputer was fitted with feature names\n",
      "  warnings.warn(\n",
      "D:\\Machine learning\\Practice Jupyter\\kg_task1\\venv1\\Lib\\site-packages\\sklearn\\base.py:493: UserWarning: X does not have valid feature names, but SimpleImputer was fitted with feature names\n",
      "  warnings.warn(\n"
     ]
    },
    {
     "data": {
      "text/plain": [
       "array([0], dtype=int64)"
      ]
     },
     "execution_count": 21,
     "metadata": {},
     "output_type": "execute_result"
    }
   ],
   "source": [
    "pipe.predict(input)"
   ]
  },
  {
   "cell_type": "code",
   "execution_count": null,
   "id": "f823e70e-bdbf-4fea-89f3-bff106bc3476",
   "metadata": {},
   "outputs": [],
   "source": []
  },
  {
   "cell_type": "code",
   "execution_count": null,
   "id": "c1d53cea-3702-4c09-84cf-e6e325abdd56",
   "metadata": {},
   "outputs": [],
   "source": []
  }
 ],
 "metadata": {
  "kernelspec": {
   "display_name": "venv1",
   "language": "python",
   "name": "venv1"
  },
  "language_info": {
   "codemirror_mode": {
    "name": "ipython",
    "version": 3
   },
   "file_extension": ".py",
   "mimetype": "text/x-python",
   "name": "python",
   "nbconvert_exporter": "python",
   "pygments_lexer": "ipython3",
   "version": "3.12.1"
  }
 },
 "nbformat": 4,
 "nbformat_minor": 5
}
